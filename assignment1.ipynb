{
 "cells": [
  {
   "cell_type": "code",
   "execution_count": 1,
   "id": "a3eab3c0-3f52-4e53-ada2-c3f4b84d1e4a",
   "metadata": {},
   "outputs": [],
   "source": [
    "import numpy as np"
   ]
  },
  {
   "cell_type": "code",
   "execution_count": 2,
   "id": "de0f02a6-ca92-4d42-b0ce-9d863b8f9d97",
   "metadata": {},
   "outputs": [],
   "source": [
    "# 1. Create a 3x3 array filled with random integers between 0 and 10. Calculate the sum, mean, and standard deviation of the array.\n",
    "arr = np.array(np.random.randn(3,3))"
   ]
  },
  {
   "cell_type": "code",
   "execution_count": 3,
   "id": "558d6478-21da-4acc-b2e1-daa382ed0b74",
   "metadata": {},
   "outputs": [
    {
     "name": "stdout",
     "output_type": "stream",
     "text": [
      "Sum: 0.4290826254514834 Mean: 0.047675847272387044 Standard deviation: 0.643130067304991\n"
     ]
    }
   ],
   "source": [
    "print(f\"Sum: {arr.sum()} Mean: {arr.mean()} Standard deviation: {arr.std()}\")"
   ]
  },
  {
   "cell_type": "code",
   "execution_count": 4,
   "id": "33008197-c6b2-4f9e-a869-dc7d90af106a",
   "metadata": {},
   "outputs": [],
   "source": [
    "# 2. Create a 1D array of 10 elements and compute the cumulative sum of the elements.\n",
    "arr1 = np.arange(10)"
   ]
  },
  {
   "cell_type": "code",
   "execution_count": 5,
   "id": "a6051471-f3d4-448d-982d-4b23ae321f14",
   "metadata": {},
   "outputs": [
    {
     "data": {
      "text/plain": [
       "array([ 0,  1,  3,  6, 10, 15, 21, 28, 36, 45])"
      ]
     },
     "execution_count": 5,
     "metadata": {},
     "output_type": "execute_result"
    }
   ],
   "source": [
    "arr1.cumsum()"
   ]
  },
  {
   "cell_type": "code",
   "execution_count": 6,
   "id": "ce41cbd5-5086-40f1-9058-d831f9d5312d",
   "metadata": {},
   "outputs": [
    {
     "name": "stdout",
     "output_type": "stream",
     "text": [
      "Addition of two arrays: \n",
      "[[ 1.26199410e+00 -5.54393003e-01  4.04371128e-01]\n",
      " [-1.76058665e+00  6.55376451e-04  1.97052989e-01]]\n",
      "Subtraction of two arrays: \n",
      "[[-0.48307701 -0.25782786  0.83385122]\n",
      " [-1.95077319 -1.72702378  1.28974948]]\n",
      "Multiplication of two arrays: \n",
      "[[ 0.33981643  0.0602191  -0.13294796]\n",
      " [-0.17646267 -0.74565268 -0.40615596]]\n",
      "Division of two arrays: \n",
      "[[  0.44635264   2.73876034  -2.88307275]\n",
      " [-19.51431439  -0.99924132  -1.36067287]]\n"
     ]
    }
   ],
   "source": [
    "# 3. Generate two 2x3 arrays with random integers and perform element-wise addition, subtraction, multiplication, and division.\n",
    "arr1_23 = np.array(np.random.randn(2,3))\n",
    "arr2_23 = np.array(np.random.randn(2,3))\n",
    "added_arr = np.add(arr1_23,arr2_23)\n",
    "sub_arr = np.subtract(arr1_23,arr2_23)\n",
    "mul_arr = np.multiply(arr1_23,arr2_23)\n",
    "div_arr = np.divide(arr1_23,arr2_23)\n",
    "print(f\"Addition of two arrays: \\n{added_arr}\\nSubtraction of two arrays: \\n{sub_arr}\\nMultiplication of two arrays: \\n{mul_arr}\\nDivision of two arrays: \\n{div_arr}\")"
   ]
  },
  {
   "cell_type": "code",
   "execution_count": 7,
   "id": "de42dbf2-22eb-4987-989a-33fe62eca41e",
   "metadata": {},
   "outputs": [
    {
     "data": {
      "text/plain": [
       "array([[1., 0., 0., 0.],\n",
       "       [0., 1., 0., 0.],\n",
       "       [0., 0., 1., 0.],\n",
       "       [0., 0., 0., 1.]])"
      ]
     },
     "execution_count": 7,
     "metadata": {},
     "output_type": "execute_result"
    }
   ],
   "source": [
    "# 4. Create a 4x4 identity matrix.\n",
    "identity_matrix = np.array(np.identity(4))\n",
    "identity_matrix"
   ]
  },
  {
   "cell_type": "code",
   "execution_count": 8,
   "id": "55ecabd6-8c1f-4f7b-b6cf-5d8984201db1",
   "metadata": {},
   "outputs": [
    {
     "name": "stdout",
     "output_type": "stream",
     "text": [
      "1 2 3 4 5\n"
     ]
    }
   ],
   "source": [
    "# 5. Given an array a = np.array([5, 10, 15, 20, 25]), divide each element by 5 using broadcasting.\n",
    "a = np.array([5, 10, 15, 20, 25])\n",
    "b_a = a//5\n",
    "print(*b_a)"
   ]
  },
  {
   "cell_type": "code",
   "execution_count": 9,
   "id": "83991a48-6950-43ad-bb32-8007d8efaf7b",
   "metadata": {},
   "outputs": [
    {
     "data": {
      "text/plain": [
       "array([[ 0,  1,  2,  3],\n",
       "       [ 4,  5,  6,  7],\n",
       "       [ 8,  9, 10, 11]])"
      ]
     },
     "execution_count": 9,
     "metadata": {},
     "output_type": "execute_result"
    }
   ],
   "source": [
    "# 6. Reshape a 1D array of 12 elements into a 3x4 matrix.\n",
    "arr_1d = np.arange(12).reshape(3,4)\n",
    "arr_1d"
   ]
  },
  {
   "cell_type": "code",
   "execution_count": 10,
   "id": "3ed2a851-eccb-4942-8ff1-e6c7450e2a93",
   "metadata": {},
   "outputs": [
    {
     "name": "stdout",
     "output_type": "stream",
     "text": [
      "[0 1 2 3 4 5 6 7 8]\n"
     ]
    }
   ],
   "source": [
    "# 7. Flatten a 3x3 matrix into a 1D array.\n",
    "array_3x3 = np.arange(9).reshape(3,3)\n",
    "flatten_arr = array_3x3.reshape(-1)\n",
    "print(flatten_arr)"
   ]
  },
  {
   "cell_type": "code",
   "execution_count": 11,
   "id": "ed4df5a3-334b-4fe8-b22d-0687c2b2955b",
   "metadata": {},
   "outputs": [
    {
     "name": "stdout",
     "output_type": "stream",
     "text": [
      "Vertically stacked arr: \n",
      "[[-0.63906904 -1.01655724  0.28815036]\n",
      " [ 0.44578852  0.31955921 -0.86237869]\n",
      " [ 0.16886571 -0.33526242  0.63580038]\n",
      " [-0.2239296  -1.93860594  1.01273855]\n",
      " [ 0.52988328 -0.44302493  1.96847786]\n",
      " [ 0.52822876 -0.47205045  0.12257978]]\n",
      "Horizontally stacked arr: \n",
      "[[-0.63906904 -1.01655724  0.28815036 -0.2239296  -1.93860594  1.01273855]\n",
      " [ 0.44578852  0.31955921 -0.86237869  0.52988328 -0.44302493  1.96847786]\n",
      " [ 0.16886571 -0.33526242  0.63580038  0.52822876 -0.47205045  0.12257978]]\n"
     ]
    }
   ],
   "source": [
    "# 8. Stack two 3x3 matrices horizontally and vertically.\n",
    "sample1_3x3 = np.array(np.random.randn(3,3))\n",
    "sample2_3x3 = np.array(np.random.randn(3,3))\n",
    "vstack_arr = np.vstack((sample1_3x3,sample2_3x3))\n",
    "hstack_arr = np.hstack((sample1_3x3,sample2_3x3))\n",
    "print(f\"Vertically stacked arr: \\n{vstack_arr}\\nHorizontally stacked arr: \\n{hstack_arr}\")"
   ]
  },
  {
   "cell_type": "code",
   "execution_count": 12,
   "id": "0f04fcf7-604e-431c-9d41-25041c3dcec0",
   "metadata": {},
   "outputs": [
    {
     "data": {
      "text/plain": [
       "array([[ 0.41169053,  0.97300274,  1.47420021, -1.22447025,  0.09406811],\n",
       "       [ 1.41029448,  0.6483358 , -0.2483643 ,  1.78103072,  1.11160934]])"
      ]
     },
     "execution_count": 12,
     "metadata": {},
     "output_type": "execute_result"
    }
   ],
   "source": [
    "# 9. Concatenate two arrays of different sizes along a new axis.\n",
    "array_2x3 = np.array(np.random.randn(2,3))\n",
    "array_3x2 = np.array(np.random.randn(2,2))\n",
    "new_con_arr = np.concatenate((array_2x3,array_3x2),axis = 1)\n",
    "new_con_arr"
   ]
  },
  {
   "cell_type": "code",
   "execution_count": 13,
   "id": "67cbf3f4-c277-4b28-8bde-700684601e0c",
   "metadata": {},
   "outputs": [
    {
     "data": {
      "text/plain": [
       "array([[0, 2],\n",
       "       [4, 1],\n",
       "       [3, 5]])"
      ]
     },
     "execution_count": 13,
     "metadata": {},
     "output_type": "execute_result"
    }
   ],
   "source": [
    "# 10. Transpose a 3x2 matrix and then reshape it to have 3 rows and 2 columns.\n",
    "arr_trans_3x2 = np.arange(6).reshape(3,2)\n",
    "transposed_arr = np.transpose(arr_trans_3x2)\n",
    "transposed_arr.reshape(3,2)"
   ]
  },
  {
   "cell_type": "code",
   "execution_count": 14,
   "id": "69e3eb26-0281-442e-889b-a0172d204bc9",
   "metadata": {},
   "outputs": [
    {
     "name": "stdout",
     "output_type": "stream",
     "text": [
      "[ 2  4  6  8 10]\n"
     ]
    }
   ],
   "source": [
    "# 11. Given a 1D array of 15 elements, extract elements at positions 2 to 10 with a step of 2.\n",
    "arr_15_elements= np.arange(15)\n",
    "print(arr_15_elements[2:11:2])"
   ]
  },
  {
   "cell_type": "code",
   "execution_count": 15,
   "id": "26909dc7-f014-4709-9ad2-bb4d96d68a28",
   "metadata": {},
   "outputs": [
    {
     "name": "stdout",
     "output_type": "stream",
     "text": [
      "[[ 0  1  2  3  4]\n",
      " [ 5  6  7  8  9]\n",
      " [10 11 12 13 14]\n",
      " [15 16 17 18 19]\n",
      " [20 21 22 23 24]]\n",
      "[[ 1  2  3]\n",
      " [ 6  7  8]\n",
      " [11 12 13]]\n"
     ]
    }
   ],
   "source": [
    "# 12. Create a 5x5 matrix and extract the sub-matrix containing elements from rows 1 to 3 and columns 2 to 4.\n",
    "arr_5x5 = np.arange(25).reshape(5,5)\n",
    "print(arr_5x5)\n",
    "print(arr_5x5[0:3,1:4])"
   ]
  },
  {
   "cell_type": "code",
   "execution_count": 16,
   "id": "8a52bab3-58fc-48a1-a3e7-188c1619cf5d",
   "metadata": {},
   "outputs": [
    {
     "data": {
      "text/plain": [
       "array([ 0,  1,  2,  3,  4,  5,  6,  7,  8,  9, 10, 10, 10, 10, 10])"
      ]
     },
     "execution_count": 16,
     "metadata": {},
     "output_type": "execute_result"
    }
   ],
   "source": [
    "#  13. Replace all elements in a 1D array greater than 10 with the value 10.\n",
    "arr_15_elements[arr_15_elements>10] = 10\n",
    "arr_15_elements"
   ]
  },
  {
   "cell_type": "code",
   "execution_count": 17,
   "id": "ce4abc33-ab04-4bab-a480-33d2808756e9",
   "metadata": {},
   "outputs": [
    {
     "data": {
      "text/plain": [
       "array([0, 2, 4, 6])"
      ]
     },
     "execution_count": 17,
     "metadata": {},
     "output_type": "execute_result"
    }
   ],
   "source": [
    "# 14. Use fancy indexing to select elements from a 1D array at positions [0, 2, 4, 6].\n",
    "fancy_arr = arr_15_elements[[0,2,4,6]]\n",
    "fancy_arr"
   ]
  },
  {
   "cell_type": "code",
   "execution_count": 18,
   "id": "6ee110e7-4507-433e-bbf8-bede6f9fdb7e",
   "metadata": {},
   "outputs": [
    {
     "data": {
      "text/plain": [
       "array([9, 8, 7, 6, 5, 4, 3, 2, 1, 0])"
      ]
     },
     "execution_count": 18,
     "metadata": {},
     "output_type": "execute_result"
    }
   ],
   "source": [
    "# 15. Create a 1D array of 10 elements and reverse it using slicing.\n",
    "array_10 = np.arange(10)\n",
    "array_10[::-1]"
   ]
  },
  {
   "cell_type": "code",
   "execution_count": 19,
   "id": "631a7c94-0982-4008-9ac5-fa551f9a6c5d",
   "metadata": {},
   "outputs": [
    {
     "name": "stdout",
     "output_type": "stream",
     "text": [
      "[[0 1 2]\n",
      " [3 4 5]\n",
      " [6 7 8]]\n",
      "[[ 0  2  4]\n",
      " [ 3  5  7]\n",
      " [ 6  8 10]]\n"
     ]
    }
   ],
   "source": [
    "# 16. Create a 3x3 matrix and add a 1x3 array to each row using broadcasting.\n",
    "bc_3x3 = np.arange(9).reshape(3,3)\n",
    "arr_3x1 = np.arange(3).reshape(1,3)\n",
    "print(bc_3x3)\n",
    "bc_3x3 = bc_3x3 + arr_3x1\n",
    "print(bc_3x3)"
   ]
  },
  {
   "cell_type": "code",
   "execution_count": 20,
   "id": "65469259-f8fc-48e2-b051-025c98d68616",
   "metadata": {},
   "outputs": [
    {
     "name": "stdout",
     "output_type": "stream",
     "text": [
      "[ 0  3  6  9 12]\n"
     ]
    }
   ],
   "source": [
    "# 17. Multiply a 1D array of 5 elements by a scalar value using broadcasting.\n",
    "arr_5 = np.arange(5)\n",
    "arr_5 *= 3\n",
    "print(arr_5)"
   ]
  },
  {
   "cell_type": "code",
   "execution_count": 21,
   "id": "d1c87371-df94-40f4-88e6-c403437cd495",
   "metadata": {},
   "outputs": [
    {
     "name": "stdout",
     "output_type": "stream",
     "text": [
      "[[0 1 2]\n",
      " [3 4 5]\n",
      " [6 7 8]]\n",
      "[[0 1 2]\n",
      " [2 3 4]\n",
      " [4 5 6]]\n"
     ]
    }
   ],
   "source": [
    "# 18. Subtract a 3x1 column vector from a 3x3 matrix using broadcasting.\n",
    "bc_3x3 = np.arange(9).reshape(3,3)\n",
    "arr_3x1 = np.arange(3).reshape(3,1)\n",
    "print(bc_3x3)\n",
    "bc_3x3 -= arr_3x1\n",
    "print(bc_3x3)"
   ]
  },
  {
   "cell_type": "code",
   "execution_count": 22,
   "id": "02a55d43-efcc-4c01-ac8e-09c6e525a126",
   "metadata": {},
   "outputs": [
    {
     "name": "stdout",
     "output_type": "stream",
     "text": [
      "[[[ 0  1  2]\n",
      "  [ 3  4  5]]\n",
      "\n",
      " [[ 6  7  8]\n",
      "  [ 9 10 11]]]\n",
      "[[[ 3  4  5]\n",
      "  [ 6  7  8]]\n",
      "\n",
      " [[ 9 10 11]\n",
      "  [12 13 14]]]\n"
     ]
    }
   ],
   "source": [
    "# 19. Add a scalar to a 3D array and demonstrate how broadcasting works across all dimensions.\n",
    "arr_3d = np.arange(12).reshape(2,2,3)\n",
    "print(arr_3d)\n",
    "arr_3d += 3\n",
    "print(arr_3d)"
   ]
  },
  {
   "cell_type": "code",
   "execution_count": 23,
   "id": "b6ee7875-2c1b-4a50-aa92-087f16e65895",
   "metadata": {},
   "outputs": [
    {
     "name": "stdout",
     "output_type": "stream",
     "text": [
      "[[0]\n",
      " [1]\n",
      " [2]\n",
      " [3]] \n",
      " [[0 1 2 3 4]] \n",
      " [[0 1 2 3 4]\n",
      " [1 2 3 4 5]\n",
      " [2 3 4 5 6]\n",
      " [3 4 5 6 7]]\n"
     ]
    }
   ],
   "source": [
    "# 20. Create two arrays of shapes (4, 1) and (1, 5) and add them using broadcasting.\n",
    "arr_4x1 = np.arange(4).reshape(4,1)\n",
    "arr_1x5 = np.arange(5).reshape(1,5)\n",
    "add_4x1_1x5 = arr_4x1 + arr_1x5\n",
    "\n",
    "print(arr_4x1,'\\n',arr_1x5,'\\n',add_4x1_1x5)"
   ]
  },
  {
   "cell_type": "code",
   "execution_count": 24,
   "id": "e5de5463-ccbb-457d-b7ec-30cfebff86f8",
   "metadata": {},
   "outputs": [
    {
     "name": "stdout",
     "output_type": "stream",
     "text": [
      "[[0 1 2]\n",
      " [2 3 4]\n",
      " [4 5 6]]\n",
      "[[0.         1.         1.41421356]\n",
      " [1.41421356 1.73205081 2.        ]\n",
      " [2.         2.23606798 2.44948974]]\n"
     ]
    }
   ],
   "source": [
    "# 21. Compute the square root of each element in a 2D array using vectorized operations.\n",
    "print(bc_3x3)\n",
    "sqrt_arr = np.sqrt(bc_3x3)\n",
    "print(sqrt_arr)"
   ]
  },
  {
   "cell_type": "code",
   "execution_count": 28,
   "id": "1e084fe4-2622-4cc7-a2ff-f3c1be495aa8",
   "metadata": {},
   "outputs": [
    {
     "data": {
      "text/plain": [
       "30"
      ]
     },
     "execution_count": 28,
     "metadata": {},
     "output_type": "execute_result"
    }
   ],
   "source": [
    "# 22. Calculate the dot product of two 1D arrays of size 5.\n",
    "sample_1d = np.arange(5)\n",
    "sample_1d1 = np.arange(5)\n",
    "np.dot(sample_1d1,sample_1d)"
   ]
  },
  {
   "cell_type": "code",
   "execution_count": 26,
   "id": "ded6a2a9-687b-4a8b-ad96-d795043e9a36",
   "metadata": {},
   "outputs": [
    {
     "name": "stdout",
     "output_type": "stream",
     "text": [
      "[False False False False False]\n"
     ]
    }
   ],
   "source": [
    "# 23. Perform element-wise comparison of two 1D arrays and return an array of boolean values indicating where the first array has larger elements.\n",
    "comparision = sample_1d > sample_1d1\n",
    "print(comparision)"
   ]
  },
  {
   "cell_type": "code",
   "execution_count": 29,
   "id": "6978115a-feb4-4934-b356-e07186bbbba9",
   "metadata": {},
   "outputs": [
    {
     "name": "stdout",
     "output_type": "stream",
     "text": [
      "4950\n"
     ]
    }
   ],
   "source": [
    "# 25. Create a 1D array of 100 random integers and compute the sum of all even numbers using vectorized operations.\n",
    "arr_100 = np.arange(100)\n",
    "print(np.sum(arr_100))"
   ]
  },
  {
   "cell_type": "code",
   "execution_count": 30,
   "id": "c2621ea0-9a50-4742-947e-f79594373532",
   "metadata": {},
   "outputs": [
    {
     "data": {
      "text/plain": [
       "0.0"
      ]
     },
     "execution_count": 30,
     "metadata": {},
     "output_type": "execute_result"
    }
   ],
   "source": [
    "# 26. Create a 3x3 matrix and find its determinant.\n",
    "np.linalg.det(bc_3x3)"
   ]
  },
  {
   "cell_type": "code",
   "execution_count": 31,
   "id": "978e49eb-c94c-4c2b-8e61-7c71fa194b38",
   "metadata": {},
   "outputs": [
    {
     "name": "stdout",
     "output_type": "stream",
     "text": [
      "Normal:\n",
      "[[0 1]\n",
      " [2 3]]\n",
      "Inverse:\n",
      "[[-1.5  0.5]\n",
      " [ 1.   0. ]]\n",
      "Multiplication of Both:\n",
      "[[1. 0.]\n",
      " [0. 1.]]\n"
     ]
    }
   ],
   "source": [
    "# 27. Given a 2x2 matrix, compute its inverse and verify by multiplying with the original matrix to obtain the identity matrix.\n",
    "arr_2x2 = np.arange(4).reshape(2,2)\n",
    "inv_arr_2x2 = np.linalg.inv(arr_2x2)\n",
    "print(f\"Normal:\\n{arr_2x2}\\nInverse:\\n{inv_arr_2x2}\\nMultiplication of Both:\\n{arr_2x2@inv_arr_2x2}\")"
   ]
  },
  {
   "cell_type": "code",
   "execution_count": 32,
   "id": "99de52ab-6a22-464d-8f01-3aa277cb866a",
   "metadata": {},
   "outputs": [
    {
     "name": "stdout",
     "output_type": "stream",
     "text": [
      "Eigen values:\n",
      "[-0.56155281  3.56155281]\n",
      "Eigen Vectors:\n",
      "[[-0.87192821 -0.27032301]\n",
      " [ 0.48963374 -0.96276969]]\n"
     ]
    }
   ],
   "source": [
    "# 28. Calculate the eigenvalues and eigenvectors of a 2x2 matrix.\n",
    "eigenvalues, eigenvector = np.linalg.eig(arr_2x2)\n",
    "print(f\"Eigen values:\\n{eigenvalues}\\nEigen Vectors:\\n{eigenvector}\")"
   ]
  },
  {
   "cell_type": "code",
   "execution_count": 33,
   "id": "edadb2ec-ef72-4dbc-89d0-54af382936e2",
   "metadata": {},
   "outputs": [
    {
     "name": "stdout",
     "output_type": "stream",
     "text": [
      "Solving linear equations using numpy\n",
      "[[0.76923077]\n",
      " [1.15384615]]\n"
     ]
    }
   ],
   "source": [
    "# 29. Solve the system of linear equations 2x + 3y = 5 and 4x + 6y = 10 using NumPy.\n",
    "equations_left = np.array([[2,3],\n",
    "                       [4,6]])\n",
    "equations_right = np.array([[5],[10]])\n",
    "print(f\"Solving linear equations using numpy\\n{np.linalg.pinv(equations_left)@equations_right}\")"
   ]
  },
  {
   "cell_type": "code",
   "execution_count": 34,
   "id": "860a5a93-6dfe-440e-8933-bc7f67f97cbf",
   "metadata": {},
   "outputs": [
    {
     "name": "stdout",
     "output_type": "stream",
     "text": [
      "[[0 1 2]\n",
      " [2 3 4]\n",
      " [4 5 6]]\n",
      "U:[[-0.18984612  0.89291197  0.40824829]\n",
      " [-0.51337419  0.26415956 -0.81649658]\n",
      " [-0.83690226 -0.36459285  0.40824829]]\n",
      "S:[1.04731645e+01 1.14578549e+00 3.19043195e-16]\n",
      "Vt:[[-0.41767294 -0.56472711 -0.71178129]\n",
      " [-0.81171587 -0.12006923  0.57157741]\n",
      " [-0.40824829  0.81649658 -0.40824829]]\n"
     ]
    }
   ],
   "source": [
    "# 30. Perform Singular Value Decomposition (SVD) on a 3x3 matrix and reconstruct the original matrix using the SVD components.\n",
    "U,S,Vt = np.linalg.svd(bc_3x3)\n",
    "print(bc_3x3)\n",
    "print(f\"U:{U}\\nS:{S}\\nVt:{Vt}\")"
   ]
  }
 ],
 "metadata": {
  "kernelspec": {
   "display_name": "Python 3 (ipykernel)",
   "language": "python",
   "name": "python3"
  },
  "language_info": {
   "codemirror_mode": {
    "name": "ipython",
    "version": 3
   },
   "file_extension": ".py",
   "mimetype": "text/x-python",
   "name": "python",
   "nbconvert_exporter": "python",
   "pygments_lexer": "ipython3",
   "version": "3.11.7"
  }
 },
 "nbformat": 4,
 "nbformat_minor": 5
}
